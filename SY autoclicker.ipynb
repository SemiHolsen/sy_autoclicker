{
 "cells": [
  {
   "cell_type": "code",
   "execution_count": 54,
   "metadata": {},
   "outputs": [],
   "source": [
    "import pyautogui as pyg\n",
    "#import numpy as np"
   ]
  },
  {
   "cell_type": "code",
   "execution_count": 30,
   "metadata": {},
   "outputs": [],
   "source": [
    "current_pos = pyg.position()"
   ]
  },
  {
   "cell_type": "code",
   "execution_count": 27,
   "metadata": {},
   "outputs": [
    {
     "data": {
      "text/plain": [
       "(1920, 1080)"
      ]
     },
     "execution_count": 27,
     "metadata": {},
     "output_type": "execute_result"
    }
   ],
   "source": [
    "pyg.size()"
   ]
  },
  {
   "cell_type": "code",
   "execution_count": 69,
   "metadata": {},
   "outputs": [
    {
     "data": {
      "text/plain": [
       "[]"
      ]
     },
     "execution_count": 69,
     "metadata": {},
     "output_type": "execute_result"
    }
   ],
   "source": [
    "list(pyg.locateAllOnScreen('find_this.png'))"
   ]
  },
  {
   "cell_type": "code",
   "execution_count": 105,
   "metadata": {},
   "outputs": [],
   "source": [
    "pyg.locateOnScreen('find_this.png', grayscale=True)"
   ]
  },
  {
   "cell_type": "code",
   "execution_count": 77,
   "metadata": {},
   "outputs": [
    {
     "data": {
      "text/plain": [
       "(1081, 349, 35, 38)"
      ]
     },
     "execution_count": 77,
     "metadata": {},
     "output_type": "execute_result"
    }
   ],
   "source": [
    "pyg.locateOnScreen('lock.png')"
   ]
  },
  {
   "cell_type": "code",
   "execution_count": 96,
   "metadata": {},
   "outputs": [],
   "source": [
    "# only 1920x1080 screen\n",
    "# start pos on uppermost fish\n",
    "current_pos = pyg.position()\n",
    "pyg.click()\n",
    "pyg.moveRel(64,36)\n",
    "pyg.click()\n",
    "pyg.moveRel(64,36)\n",
    "pyg.click()\n",
    "pyg.moveRel(64,36)\n",
    "pyg.click()\n",
    "pyg.moveRel(64,36)\n",
    "pyg.click()\n",
    "pyg.moveTo(current_pos)"
   ]
  },
  {
   "cell_type": "code",
   "execution_count": 102,
   "metadata": {},
   "outputs": [],
   "source": [
    "# any? screen\n",
    "# start pos on uppermost fish\n",
    "current_pos = pyg.position()\n",
    "screen_size = pyg.size()\n",
    "move_x = screen_size[0]/30\n",
    "move_y = screen_size[1]/30\n",
    "pyg.click()\n",
    "pyg.moveRel(move_x, move_y)\n",
    "pyg.click()\n",
    "pyg.moveRel(move_x, move_y)\n",
    "pyg.click()\n",
    "pyg.moveRel(move_x, move_y)\n",
    "pyg.click()\n",
    "pyg.moveRel(move_x, move_y)\n",
    "pyg.click()\n",
    "pyg.moveTo(current_pos)"
   ]
  }
 ],
 "metadata": {
  "kernelspec": {
   "display_name": "Python 3",
   "language": "python",
   "name": "python3"
  },
  "language_info": {
   "codemirror_mode": {
    "name": "ipython",
    "version": 3
   },
   "file_extension": ".py",
   "mimetype": "text/x-python",
   "name": "python",
   "nbconvert_exporter": "python",
   "pygments_lexer": "ipython3",
   "version": "3.6.4"
  }
 },
 "nbformat": 4,
 "nbformat_minor": 2
}
